{
 "cells": [
  {
   "cell_type": "code",
   "execution_count": 3,
   "metadata": {},
   "outputs": [],
   "source": [
    "import json\n"
   ]
  },
  {
   "cell_type": "code",
   "execution_count": 4,
   "metadata": {},
   "outputs": [],
   "source": [
    "filename = \"cms-sites.json\"\n",
    "f = open(filename)\n",
    "sites = json.load(f)"
   ]
  },
  {
   "cell_type": "code",
   "execution_count": 5,
   "metadata": {},
   "outputs": [],
   "source": [
    "import pandas as pd"
   ]
  },
  {
   "cell_type": "code",
   "execution_count": 6,
   "metadata": {},
   "outputs": [],
   "source": [
    "df = pd.DataFrame.from_dict(sites, orient='index')"
   ]
  },
  {
   "cell_type": "code",
   "execution_count": 10,
   "metadata": {},
   "outputs": [],
   "source": [
    "df.index.name = \"Site\"\n",
    "df = df[['state', 'country', 'facility', 'status', 'tier_level']]"
   ]
  },
  {
   "cell_type": "code",
   "execution_count": 11,
   "metadata": {},
   "outputs": [
    {
     "data": {
      "text/html": [
       "<div>\n",
       "<style scoped>\n",
       "    .dataframe tbody tr th:only-of-type {\n",
       "        vertical-align: middle;\n",
       "    }\n",
       "\n",
       "    .dataframe tbody tr th {\n",
       "        vertical-align: top;\n",
       "    }\n",
       "\n",
       "    .dataframe thead th {\n",
       "        text-align: right;\n",
       "    }\n",
       "</style>\n",
       "<table border=\"1\" class=\"dataframe\">\n",
       "  <thead>\n",
       "    <tr style=\"text-align: right;\">\n",
       "      <th></th>\n",
       "      <th>state</th>\n",
       "      <th>country</th>\n",
       "      <th>facility</th>\n",
       "      <th>status</th>\n",
       "      <th>tier_level</th>\n",
       "    </tr>\n",
       "    <tr>\n",
       "      <th>Site</th>\n",
       "      <th></th>\n",
       "      <th></th>\n",
       "      <th></th>\n",
       "      <th></th>\n",
       "      <th></th>\n",
       "    </tr>\n",
       "  </thead>\n",
       "  <tbody>\n",
       "    <tr>\n",
       "      <th>T0_CH_CERN</th>\n",
       "      <td>ACTIVE</td>\n",
       "      <td>Switzerland</td>\n",
       "      <td>CH_CERN</td>\n",
       "      <td>test</td>\n",
       "      <td>0</td>\n",
       "    </tr>\n",
       "    <tr>\n",
       "      <th>T0_CH_CSCS_HPC</th>\n",
       "      <td>ACTIVE</td>\n",
       "      <td>Switzerland</td>\n",
       "      <td>CH_CSCS</td>\n",
       "      <td>production</td>\n",
       "      <td>0</td>\n",
       "    </tr>\n",
       "    <tr>\n",
       "      <th>T1_DE_KIT</th>\n",
       "      <td>ACTIVE</td>\n",
       "      <td>Germany</td>\n",
       "      <td>DE_KIT</td>\n",
       "      <td>production</td>\n",
       "      <td>1</td>\n",
       "    </tr>\n",
       "    <tr>\n",
       "      <th>T1_ES_PIC</th>\n",
       "      <td>ACTIVE</td>\n",
       "      <td>Spain</td>\n",
       "      <td>ES_PIC</td>\n",
       "      <td>production</td>\n",
       "      <td>1</td>\n",
       "    </tr>\n",
       "    <tr>\n",
       "      <th>T1_FR_CCIN2P3</th>\n",
       "      <td>ACTIVE</td>\n",
       "      <td>France</td>\n",
       "      <td>FR_CCIN2P3</td>\n",
       "      <td>production</td>\n",
       "      <td>1</td>\n",
       "    </tr>\n",
       "    <tr>\n",
       "      <th>...</th>\n",
       "      <td>...</td>\n",
       "      <td>...</td>\n",
       "      <td>...</td>\n",
       "      <td>...</td>\n",
       "      <td>...</td>\n",
       "    </tr>\n",
       "    <tr>\n",
       "      <th>T3_US_UMD</th>\n",
       "      <td>ACTIVE</td>\n",
       "      <td>United States</td>\n",
       "      <td>US_UMD</td>\n",
       "      <td>production</td>\n",
       "      <td>3</td>\n",
       "    </tr>\n",
       "    <tr>\n",
       "      <th>T3_US_UMiss</th>\n",
       "      <td>ACTIVE</td>\n",
       "      <td>United States</td>\n",
       "      <td>US_UMiss</td>\n",
       "      <td>production</td>\n",
       "      <td>3</td>\n",
       "    </tr>\n",
       "    <tr>\n",
       "      <th>T3_US_UVA</th>\n",
       "      <td>ACTIVE</td>\n",
       "      <td>NULL</td>\n",
       "      <td>US_UVA</td>\n",
       "      <td>test</td>\n",
       "      <td>3</td>\n",
       "    </tr>\n",
       "    <tr>\n",
       "      <th>T3_US_VC3_NotreDame</th>\n",
       "      <td>ACTIVE</td>\n",
       "      <td>NULL</td>\n",
       "      <td>US_VC3_NotreDame</td>\n",
       "      <td>production</td>\n",
       "      <td>3</td>\n",
       "    </tr>\n",
       "    <tr>\n",
       "      <th>T3_US_Vanderbilt_EC2</th>\n",
       "      <td>ACTIVE</td>\n",
       "      <td>United States</td>\n",
       "      <td>US_Vanderbilt</td>\n",
       "      <td>test</td>\n",
       "      <td>3</td>\n",
       "    </tr>\n",
       "  </tbody>\n",
       "</table>\n",
       "<p>149 rows × 5 columns</p>\n",
       "</div>"
      ],
      "text/plain": [
       "                       state        country          facility      status  \\\n",
       "Site                                                                        \n",
       "T0_CH_CERN            ACTIVE    Switzerland           CH_CERN        test   \n",
       "T0_CH_CSCS_HPC        ACTIVE    Switzerland           CH_CSCS  production   \n",
       "T1_DE_KIT             ACTIVE        Germany            DE_KIT  production   \n",
       "T1_ES_PIC             ACTIVE          Spain            ES_PIC  production   \n",
       "T1_FR_CCIN2P3         ACTIVE         France        FR_CCIN2P3  production   \n",
       "...                      ...            ...               ...         ...   \n",
       "T3_US_UMD             ACTIVE  United States            US_UMD  production   \n",
       "T3_US_UMiss           ACTIVE  United States          US_UMiss  production   \n",
       "T3_US_UVA             ACTIVE           NULL            US_UVA        test   \n",
       "T3_US_VC3_NotreDame   ACTIVE           NULL  US_VC3_NotreDame  production   \n",
       "T3_US_Vanderbilt_EC2  ACTIVE  United States     US_Vanderbilt        test   \n",
       "\n",
       "                      tier_level  \n",
       "Site                              \n",
       "T0_CH_CERN                     0  \n",
       "T0_CH_CSCS_HPC                 0  \n",
       "T1_DE_KIT                      1  \n",
       "T1_ES_PIC                      1  \n",
       "T1_FR_CCIN2P3                  1  \n",
       "...                          ...  \n",
       "T3_US_UMD                      3  \n",
       "T3_US_UMiss                    3  \n",
       "T3_US_UVA                      3  \n",
       "T3_US_VC3_NotreDame            3  \n",
       "T3_US_Vanderbilt_EC2           3  \n",
       "\n",
       "[149 rows x 5 columns]"
      ]
     },
     "execution_count": 11,
     "metadata": {},
     "output_type": "execute_result"
    }
   ],
   "source": [
    "df"
   ]
  },
  {
   "cell_type": "code",
   "execution_count": 13,
   "metadata": {},
   "outputs": [],
   "source": [
    "import csv\n",
    "df.to_csv(\"CMS Site list.csv\", index_label=\"Site\", quotechar='\"', quoting=csv.QUOTE_ALL)"
   ]
  },
  {
   "cell_type": "code",
   "execution_count": null,
   "metadata": {},
   "outputs": [],
   "source": []
  }
 ],
 "metadata": {
  "kernelspec": {
   "display_name": "Python 3.10.8 ('cric')",
   "language": "python",
   "name": "python3"
  },
  "language_info": {
   "codemirror_mode": {
    "name": "ipython",
    "version": 3
   },
   "file_extension": ".py",
   "mimetype": "text/x-python",
   "name": "python",
   "nbconvert_exporter": "python",
   "pygments_lexer": "ipython3",
   "version": "3.9.15"
  },
  "orig_nbformat": 4,
  "vscode": {
   "interpreter": {
    "hash": "cc1748b99aa8fb8b71e6defa8fdbda0d8ba04d03b26fd81a58a6f88b2f9e0e2d"
   }
  }
 },
 "nbformat": 4,
 "nbformat_minor": 2
}
